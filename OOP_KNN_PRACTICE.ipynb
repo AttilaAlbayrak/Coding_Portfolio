{
  "nbformat": 4,
  "nbformat_minor": 0,
  "metadata": {
    "colab": {
      "provenance": [],
      "authorship_tag": "ABX9TyPxU7wWaSyO8n0NVzSppXyG",
      "include_colab_link": true
    },
    "kernelspec": {
      "name": "python3",
      "display_name": "Python 3"
    },
    "language_info": {
      "name": "python"
    }
  },
  "cells": [
    {
      "cell_type": "markdown",
      "metadata": {
        "id": "view-in-github",
        "colab_type": "text"
      },
      "source": [
        "<a href=\"https://colab.research.google.com/github/AttilaAlbayrak/Coding_Portfolio/blob/main/OOP_KNN_PRACTICE.ipynb\" target=\"_parent\"><img src=\"https://colab.research.google.com/assets/colab-badge.svg\" alt=\"Open In Colab\"/></a>"
      ]
    },
    {
      "cell_type": "code",
      "execution_count": 2,
      "metadata": {
        "id": "v7MhMe6LYfFa"
      },
      "outputs": [],
      "source": [
        "import numpy as np\n",
        "import sklearn as skl\n",
        "import pandas as pd\n",
        "from sklearn.model_selection import train_test_split\n",
        "from sklearn.neighbors import KNeighborsClassifier\n",
        "from sklearn.preprocessing import StandardScaler\n",
        "from sklearn.metrics import accuracy_score"
      ]
    },
    {
      "cell_type": "code",
      "source": [
        "trans_Data = pd.read_csv('/content/card_transdata.csv')"
      ],
      "metadata": {
        "id": "_7vWbEmIY6kh"
      },
      "execution_count": 3,
      "outputs": []
    },
    {
      "cell_type": "code",
      "source": [],
      "metadata": {
        "colab": {
          "base_uri": "https://localhost:8080/"
        },
        "id": "YG0kF_v0ZA0N",
        "outputId": "67aa73e8-0147-4e8c-aa68-2a4c58d337b1"
      },
      "execution_count": 65,
      "outputs": [
        {
          "output_type": "stream",
          "name": "stdout",
          "text": [
            "<class 'pandas.core.frame.DataFrame'>\n"
          ]
        }
      ]
    },
    {
      "cell_type": "code",
      "source": [
        "class data_cleaning():\n",
        "  def __init__ (self,data_Set):\n",
        "    self.data_Set=data_Set\n",
        "\n",
        "  def train_test_split(self):\n",
        "    x = self.data_Set.drop(['fraud'],axis=1)\n",
        "    y = self.data_Set['fraud']\n",
        "    self.x_train,self.x_test,self.y_train,self.y_test=train_test_split(x,y,test_size=.3,random_state=1)\n",
        "\n",
        "    return self.x_train,self.x_test,self.y_train,self.y_test\n",
        "\n",
        "  def z_scorenorm(self):\n",
        "    self.train_test_split()\n",
        "    scale = StandardScaler()\n",
        "    self.x_train=scale.fit_transform(self.x_train)\n",
        "    self.x_test=scale.transform(self.x_test)\n",
        "\n",
        "\n",
        "class model_dev(data_cleaning):\n",
        "  def __init__ (self,data_Set):\n",
        "      super().__init__(data_Set) #in order to gett attribute from the parent class, I need to call the super function(inheritence)\n",
        "      self.data_Set=data_Set\n",
        "\n",
        "  def knn_model_training(self):\n",
        "    self.z_scorenorm()\n",
        "    self.knn_model = KNeighborsClassifier(n_neighbors=4)\n",
        "    self.knn_model=self.knn_model.fit(self.x_train,self.y_train)\n",
        "    self.y_pred=self.knn_model.predict(self.x_test)\n",
        "\n",
        "    return self.y_pred\n",
        "  def model_evaluation(self):\n",
        "    self.train_test_split()\n",
        "    accuracy=accuracy_score(self.y_test,self.y_pred)\n",
        "    print('the accuracy of the model is', accuracy,'%')\n",
        "\n",
        "model_clean=data_cleaning(trans_Data)\n",
        "model_clean.train_test_split()\n",
        "\n",
        "model_clean.z_scorenorm()\n",
        "\n",
        "final_model = model_dev(trans_Data)\n",
        "final_model.knn_model_training()\n",
        "final_model.model_evaluation()\n",
        "\n",
        "\n"
      ],
      "metadata": {
        "colab": {
          "base_uri": "https://localhost:8080/"
        },
        "id": "OgoHlq0WZZpA",
        "outputId": "65485a8a-3112-4517-c1f8-a5d5234186a1"
      },
      "execution_count": 5,
      "outputs": [
        {
          "output_type": "stream",
          "name": "stdout",
          "text": [
            "the accuracy of the model is 0.9984866666666666 %\n"
          ]
        }
      ]
    },
    {
      "cell_type": "code",
      "source": [
        "#add optimal k-value to this code"
      ],
      "metadata": {
        "id": "BLz9-Wxf1_YA"
      },
      "execution_count": null,
      "outputs": []
    }
  ]
}